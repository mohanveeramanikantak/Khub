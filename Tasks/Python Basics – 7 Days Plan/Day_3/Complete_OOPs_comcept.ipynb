{
  "nbformat": 4,
  "nbformat_minor": 0,
  "metadata": {
    "colab": {
      "provenance": []
    },
    "kernelspec": {
      "name": "python3",
      "display_name": "Python 3"
    },
    "language_info": {
      "name": "python"
    }
  },
  "cells": [
    {
      "cell_type": "markdown",
      "source": [
        "##Kalepu Mohan Veera Manikanta\n",
        "##23B21A4316 , KHUB-T7"
      ],
      "metadata": {
        "id": "qI97WmHDeXV5"
      }
    },
    {
      "cell_type": "markdown",
      "source": [
        "**Python is fully OOP-based, so we can directly implement:**\n",
        "\n",
        "1. Class & Object\n",
        "\n",
        "2. Encapsulation\n",
        "\n",
        "3. Inheritance\n",
        "\n",
        "4. Polymorphism\n",
        "\n",
        "5. Abstraction\n",
        "\n",
        "6. Constructor / Destructor\n",
        "\n",
        "7. Overloading / Overriding\n",
        "\n",
        "8. Multiple Inheritance\n",
        "\n",
        "9. Interfaces (via Abstract Base Classes)\n",
        "\n",
        "\n"
      ],
      "metadata": {
        "id": "_RSKLPvMbzvw"
      }
    },
    {
      "cell_type": "markdown",
      "source": [
        "##**🔹 10 OOPs Concept Programs in Python**"
      ],
      "metadata": {
        "id": "lCRnOtZOcVEo"
      }
    },
    {
      "cell_type": "markdown",
      "source": [
        "## **1. Class and Object**"
      ],
      "metadata": {
        "id": "uh3uosm8chsp"
      }
    },
    {
      "cell_type": "code",
      "execution_count": null,
      "metadata": {
        "colab": {
          "base_uri": "https://localhost:8080/"
        },
        "id": "Bc8N7Bn_bslE",
        "outputId": "52039035-8ccc-4339-b3c2-eb68f5c2bd34"
      },
      "outputs": [
        {
          "output_type": "stream",
          "name": "stdout",
          "text": [
            "Name: Mohan, Age: 20\n"
          ]
        }
      ],
      "source": [
        "#Class and Object\n",
        "class Student:\n",
        "    def __init__(self, name, age):\n",
        "        self.name = name\n",
        "        self.age = age\n",
        "\n",
        "    def display(self):\n",
        "        print(f\"Name: {self.name}, Age: {self.age}\")\n",
        "\n",
        "s1 = Student(\"Mohan\", 20)\n",
        "s1.display()\n"
      ]
    },
    {
      "cell_type": "markdown",
      "source": [
        "## **2. Encapsulation (Private variables + Getters/Setters)**"
      ],
      "metadata": {
        "id": "7W7P6o_ec0nD"
      }
    },
    {
      "cell_type": "code",
      "source": [
        "## 2. Encapsulation (Private variables + Getters/Setters)\n",
        "class BankAccount:\n",
        "    def __init__(self):\n",
        "        self.__balance = 0   # private variable\n",
        "\n",
        "    def deposit(self, amount):\n",
        "        self.__balance += amount\n",
        "\n",
        "    def get_balance(self):\n",
        "        return self.__balance\n",
        "\n",
        "acc = BankAccount()\n",
        "acc.deposit(5000)\n",
        "print(\"Balance:\", acc.get_balance())\n",
        "\n"
      ],
      "metadata": {
        "colab": {
          "base_uri": "https://localhost:8080/"
        },
        "id": "wfxaidbYctsh",
        "outputId": "ba2626e2-61f4-4956-dd7e-5be5b8bd1797"
      },
      "execution_count": null,
      "outputs": [
        {
          "output_type": "stream",
          "name": "stdout",
          "text": [
            "Balance: 5000\n"
          ]
        }
      ]
    },
    {
      "cell_type": "markdown",
      "source": [
        "## **3. Single Inheritance**"
      ],
      "metadata": {
        "id": "Nu_LYptIdILD"
      }
    },
    {
      "cell_type": "code",
      "source": [
        "##3. Single Inheritance\n",
        "class Person:\n",
        "    def greet(self):\n",
        "        print(\"Hello, I am a STUDENT.\")\n",
        "\n",
        "class Employee(Person):\n",
        "    def work(self):\n",
        "        print(\"I am working at KHUB.\")\n",
        "\n",
        "e = Employee()\n",
        "e.greet()\n",
        "e.work()\n"
      ],
      "metadata": {
        "colab": {
          "base_uri": "https://localhost:8080/"
        },
        "id": "skZcXAaSdO2q",
        "outputId": "a0446704-5745-40d5-f05c-5544ef73d8c4"
      },
      "execution_count": null,
      "outputs": [
        {
          "output_type": "stream",
          "name": "stdout",
          "text": [
            "Hello, I am a STUDENT.\n",
            "I am working at KHUB.\n"
          ]
        }
      ]
    },
    {
      "cell_type": "markdown",
      "source": [
        "## **4. Multiple Inheritance**"
      ],
      "metadata": {
        "id": "OLLdwx37deti"
      }
    },
    {
      "cell_type": "code",
      "source": [
        "##4. Multiple Inheritance\n",
        "class A:\n",
        "    def methodA(self):\n",
        "        print(\"Method from A\")\n",
        "\n",
        "class B:\n",
        "    def methodB(self):\n",
        "        print(\"Method from B\")\n",
        "\n",
        "class C(A, B):\n",
        "    pass\n",
        "\n",
        "c = C()\n",
        "c.methodA()\n",
        "c.methodB()"
      ],
      "metadata": {
        "colab": {
          "base_uri": "https://localhost:8080/"
        },
        "id": "7ckG2AZXdRPA",
        "outputId": "ac9bd7e7-cb99-4814-921b-33e7d266bc96"
      },
      "execution_count": null,
      "outputs": [
        {
          "output_type": "stream",
          "name": "stdout",
          "text": [
            "Method from A\n",
            "Method from B\n"
          ]
        }
      ]
    },
    {
      "cell_type": "markdown",
      "source": [
        "## **5. Polymorphism (Duck Typing)**"
      ],
      "metadata": {
        "id": "PZxWOXsddnDJ"
      }
    },
    {
      "cell_type": "code",
      "source": [
        "## 5. Polymorphism (Duck Typing)\n",
        "class Dog:\n",
        "    def speak(self):\n",
        "        print(\"Woof!\")\n",
        "\n",
        "class Cat:\n",
        "    def speak(self):\n",
        "        print(\"Meow!\")\n",
        "\n",
        "def animal_sound(animal):\n",
        "    animal.speak()\n",
        "\n",
        "animal_sound(Dog())\n",
        "animal_sound(Cat())\n"
      ],
      "metadata": {
        "colab": {
          "base_uri": "https://localhost:8080/"
        },
        "id": "hw4R2tTVdqkq",
        "outputId": "0f35f904-eecf-4150-d068-d6b3041b536a"
      },
      "execution_count": null,
      "outputs": [
        {
          "output_type": "stream",
          "name": "stdout",
          "text": [
            "Woof!\n",
            "Meow!\n"
          ]
        }
      ]
    },
    {
      "cell_type": "markdown",
      "source": [
        "## **6. Method Overriding**"
      ],
      "metadata": {
        "id": "nvkWDjB5dvQ7"
      }
    },
    {
      "cell_type": "code",
      "source": [
        "##6. Method Overriding\n",
        "class Vehicle:\n",
        "    def start(self):\n",
        "        print(\"Vehicle is starting...\")\n",
        "\n",
        "class Car(Vehicle):\n",
        "    def start(self):\n",
        "        print(\"Car starts with a key ignition...\")\n",
        "\n",
        "v = Vehicle()\n",
        "c = Car()\n",
        "v.start()\n",
        "c.start()"
      ],
      "metadata": {
        "colab": {
          "base_uri": "https://localhost:8080/"
        },
        "id": "maLIAvAQdx3z",
        "outputId": "8e824f83-d4d1-46ac-a3f9-c45e52073ec2"
      },
      "execution_count": null,
      "outputs": [
        {
          "output_type": "stream",
          "name": "stdout",
          "text": [
            "Vehicle is starting...\n",
            "Car starts with a key ignition...\n"
          ]
        }
      ]
    },
    {
      "cell_type": "markdown",
      "source": [
        "## **7. Constructor and Destructor**"
      ],
      "metadata": {
        "id": "cCeeLMo0d17J"
      }
    },
    {
      "cell_type": "code",
      "source": [
        "##7. Constructor and Destructor\n",
        "class User:\n",
        "    def __init__(self, name):\n",
        "        self.name = name\n",
        "        print(f\"{self.name} created!\")\n",
        "\n",
        "    def __del__(self):\n",
        "        print(f\"{self.name} deleted!\")\n",
        "\n",
        "u = User(\"Mohan\")\n",
        "del u\n"
      ],
      "metadata": {
        "colab": {
          "base_uri": "https://localhost:8080/"
        },
        "id": "v82HdF4-d4cI",
        "outputId": "7c3b7a98-4523-4a6b-a455-65df9a899df5"
      },
      "execution_count": null,
      "outputs": [
        {
          "output_type": "stream",
          "name": "stdout",
          "text": [
            "Mohan created!\n",
            "Mohan deleted!\n"
          ]
        }
      ]
    },
    {
      "cell_type": "markdown",
      "source": [
        "## **8. Operator Overloading**"
      ],
      "metadata": {
        "id": "oSyDykSdd9hD"
      }
    },
    {
      "cell_type": "code",
      "source": [
        "class Point:\n",
        "    def __init__(self, x, y):\n",
        "        self.x, self.y = x, y\n",
        "\n",
        "    def __add__(self, other):\n",
        "        return Point(self.x + other.x, self.y + other.y)\n",
        "\n",
        "    def __str__(self):\n",
        "        return f\"({self.x}, {self.y})\"\n",
        "\n",
        "p1 = Point(2, 3)\n",
        "p2 = Point(4, 5)\n",
        "print(p1 + p2)"
      ],
      "metadata": {
        "colab": {
          "base_uri": "https://localhost:8080/"
        },
        "id": "rlxcjsXFd_jH",
        "outputId": "e797f2c4-9998-420d-8823-b78d55f67365"
      },
      "execution_count": null,
      "outputs": [
        {
          "output_type": "stream",
          "name": "stdout",
          "text": [
            "(6, 8)\n"
          ]
        }
      ]
    },
    {
      "cell_type": "markdown",
      "source": [
        "## **9. Abstraction (Abstract Base Class)**"
      ],
      "metadata": {
        "id": "jXnQGod-eEp1"
      }
    },
    {
      "cell_type": "code",
      "source": [
        "##9. Abstraction (Abstract Base Class)\n",
        "from abc import ABC, abstractmethod\n",
        "\n",
        "class Shape(ABC):\n",
        "    @abstractmethod\n",
        "    def area(self):\n",
        "        pass\n",
        "\n",
        "class Circle(Shape):\n",
        "    def __init__(self, radius):\n",
        "        self.radius = radius\n",
        "    def area(self):\n",
        "        return 3.14 * self.radius * self.radius\n",
        "\n",
        "c = Circle(5)\n",
        "print(\"Circle Area:\", c.area())\n"
      ],
      "metadata": {
        "colab": {
          "base_uri": "https://localhost:8080/"
        },
        "id": "GsROuT8Id6Tb",
        "outputId": "151a93ad-bf24-4975-e35a-863b4ab770be"
      },
      "execution_count": null,
      "outputs": [
        {
          "output_type": "stream",
          "name": "stdout",
          "text": [
            "Circle Area: 78.5\n"
          ]
        }
      ]
    },
    {
      "cell_type": "markdown",
      "source": [
        "## **10. Real-life Example (Payment System)**"
      ],
      "metadata": {
        "id": "NA77q0_YeKuJ"
      }
    },
    {
      "cell_type": "code",
      "source": [
        "class Payment:\n",
        "    def pay(self, amount):\n",
        "        raise NotImplementedError(\"Subclass must implement abstract method\")\n",
        "\n",
        "class CreditCard(Payment):\n",
        "    def pay(self, amount):\n",
        "        print(f\"Paid {amount} using Credit Card\")\n",
        "\n",
        "class UPI(Payment):\n",
        "    def pay(self, amount):\n",
        "        print(f\"Paid {amount} using UPI\")\n",
        "\n",
        "p = CreditCard()\n",
        "p.pay(500)\n",
        "p = UPI()\n",
        "p.pay(300)\n"
      ],
      "metadata": {
        "id": "nKbFIRbYePqh"
      },
      "execution_count": null,
      "outputs": []
    }
  ]
}