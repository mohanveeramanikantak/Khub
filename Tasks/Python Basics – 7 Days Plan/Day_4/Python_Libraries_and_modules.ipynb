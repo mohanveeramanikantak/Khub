{
  "nbformat": 4,
  "nbformat_minor": 0,
  "metadata": {
    "colab": {
      "provenance": []
    },
    "kernelspec": {
      "name": "python3",
      "display_name": "Python 3"
    },
    "language_info": {
      "name": "python"
    }
  },
  "cells": [
    {
      "cell_type": "markdown",
      "source": [
        "##Kalepu Mohan Veera Manikanta\n",
        "##23B21A4316 , KHUB-T7"
      ],
      "metadata": {
        "id": "a1Z3svSzg6Dj"
      }
    },
    {
      "cell_type": "markdown",
      "source": [
        "##1. Using Built-in Libraries"
      ],
      "metadata": {
        "id": "9-BWSWl6hoOs"
      }
    },
    {
      "cell_type": "code",
      "execution_count": null,
      "metadata": {
        "colab": {
          "base_uri": "https://localhost:8080/"
        },
        "id": "xMICM2nEgzTv",
        "outputId": "204f7189-1427-4423-dc18-8651459634b2"
      },
      "outputs": [
        {
          "output_type": "stream",
          "name": "stdout",
          "text": [
            "Square root of 25: 5.0\n",
            "Value of PI: 3.141592653589793\n",
            "Today's date: 2025-09-06\n",
            "Random number between 1-100: 31\n"
          ]
        }
      ],
      "source": [
        "#1. Using Built-in Libraries\n",
        "import math\n",
        "import datetime\n",
        "import random\n",
        "\n",
        "print(\"Square root of 25:\", math.sqrt(25))\n",
        "print(\"Value of PI:\", math.pi)\n",
        "\n",
        "today = datetime.date.today()\n",
        "print(\"Today's date:\", today)\n",
        "\n",
        "print(\"Random number between 1-100:\", random.randint(1, 100))"
      ]
    },
    {
      "cell_type": "markdown",
      "source": [
        "## 2. Using External Library"
      ],
      "metadata": {
        "id": "fzBu5KHthbXG"
      }
    },
    {
      "cell_type": "code",
      "source": [
        "# Run this in Colab once:  !pip install requests\n",
        "import requests\n",
        "\n",
        "response = requests.get(\"https://api.github.com\")\n",
        "print(\"GitHub API Response Status:\", response.status_code)\n",
        "print(\"GitHub API Keys:\", list(response.json().keys()))"
      ],
      "metadata": {
        "colab": {
          "base_uri": "https://localhost:8080/"
        },
        "id": "ORS177RrhCKM",
        "outputId": "f4a57d7e-2839-4d4f-b7cd-9a64877b52c5"
      },
      "execution_count": null,
      "outputs": [
        {
          "output_type": "stream",
          "name": "stdout",
          "text": [
            "GitHub API Response Status: 200\n",
            "GitHub API Keys: ['current_user_url', 'current_user_authorizations_html_url', 'authorizations_url', 'code_search_url', 'commit_search_url', 'emails_url', 'emojis_url', 'events_url', 'feeds_url', 'followers_url', 'following_url', 'gists_url', 'hub_url', 'issue_search_url', 'issues_url', 'keys_url', 'label_search_url', 'notifications_url', 'organization_url', 'organization_repositories_url', 'organization_teams_url', 'public_gists_url', 'rate_limit_url', 'repository_url', 'repository_search_url', 'current_user_repositories_url', 'starred_url', 'starred_gists_url', 'topic_search_url', 'user_url', 'user_organizations_url', 'user_repositories_url', 'user_search_url']\n"
          ]
        }
      ]
    },
    {
      "cell_type": "markdown",
      "source": [
        "## 3. Creating & Using Custom Module"
      ],
      "metadata": {
        "id": "875ZNVLYhTFj"
      }
    },
    {
      "cell_type": "code",
      "source": [
        "# Create a module file\n",
        "with open(\"mymodule.py\", \"w\") as f:\n",
        "    f.write(\"\"\"\n",
        "def greet(name):\n",
        "    return f\"Hello, {name}! Welcome to OOPs in Python.\"\n",
        "  \"\"\")\n",
        "\n",
        "# Import custom module\n",
        "import mymodule\n",
        "print(mymodule.greet(\"Mohan\"))"
      ],
      "metadata": {
        "colab": {
          "base_uri": "https://localhost:8080/"
        },
        "id": "Hl1VLfJshEL-",
        "outputId": "485169a9-2237-40cb-b4ab-714dada9cd4d"
      },
      "execution_count": null,
      "outputs": [
        {
          "output_type": "stream",
          "name": "stdout",
          "text": [
            "Hello, Mohan! Welcome to OOPs in Python.\n"
          ]
        }
      ]
    }
  ]
}